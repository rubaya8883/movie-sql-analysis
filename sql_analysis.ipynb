{
 "cells": [
  {
   "cell_type": "code",
   "execution_count": 3,
   "id": "c3f00e03-66d5-4955-9747-3eab62a81087",
   "metadata": {},
   "outputs": [
    {
     "name": "stdout",
     "output_type": "stream",
     "text": [
      "check the dataset\n",
      "------------------------------creating sqlite database and table----------------------------\n"
     ]
    }
   ],
   "source": [
    "#Importing Required Libraries\n",
    "import sqlite3\n",
    "import pandas as pd\n",
    "\n",
    "#loading the cleaned csv file 'BoxOfficeCollections_cleaned'\n",
    "df = pd.read_csv('BoxOfficeCollections_cleaned.csv')\n",
    "print('check the dataset')\n",
    "df.head()\n",
    "\n",
    "print('------------------------------creating sqlite database and table----------------------------')\n"
   ]
  },
  {
   "cell_type": "code",
   "execution_count": 4,
   "id": "780f9a87-cf3e-4161-81f7-12533d66a73e",
   "metadata": {},
   "outputs": [
    {
     "data": {
      "text/plain": [
       "1367"
      ]
     },
     "execution_count": 4,
     "metadata": {},
     "output_type": "execute_result"
    }
   ],
   "source": [
    "# Connect to SQLite (creates a file if it doesn't exist)\n",
    "conn = sqlite3.connect('IMDB_box_office.db')\n",
    "\n",
    "# Save DataFrame to a SQL table named 'movies'\n",
    "df.to_sql('movies', conn, if_exists='replace', index=False)"
   ]
  },
  {
   "cell_type": "code",
   "execution_count": 5,
   "id": "afea09d1-3046-4e41-9a74-a8e6438598ff",
   "metadata": {},
   "outputs": [
    {
     "name": "stdout",
     "output_type": "stream",
     "text": [
      "C:\\Users\\rubay\n"
     ]
    }
   ],
   "source": [
    "#find the saved location of the database 'IMDB_box_office.db'\n",
    "import os\n",
    "print(os.getcwd())"
   ]
  },
  {
   "cell_type": "code",
   "execution_count": 7,
   "id": "9bce887a-938f-4061-97dc-21dfed84b9ed",
   "metadata": {},
   "outputs": [
    {
     "name": "stdout",
     "output_type": "stream",
     "text": [
      "                                   movie  imdb_rating  box_office_collection\n",
      "0                      Avengers: Endgame          8.4           2.797801e+09\n",
      "1                            Toy Story 3          8.3           1.068880e+09\n",
      "2                               Zootopia          8.0           1.004630e+09\n",
      "3                        The Dark Knight          9.0           9.986158e+08\n",
      "4                           Finding Nemo          8.2           9.360949e+08\n",
      "5  The Lord of the Rings: The Two Towers          8.8           9.191488e+08\n",
      "6                             Inside Out          8.2           8.528301e+08\n",
      "7                                   Coco          8.4           7.976664e+08\n",
      "8                                     Up          8.3           7.314634e+08\n",
      "9                              Inception          8.8           7.285825e+08\n"
     ]
    }
   ],
   "source": [
    "query = \"\"\"\n",
    "SELECT \n",
    "    movie, imdb_rating, box_office_collection\n",
    "FROM \n",
    "    movies\n",
    "WHERE \n",
    "    imdb_rating >= 8\n",
    "ORDER BY \n",
    "    box_office_collection DESC\n",
    "LIMIT 10\n",
    "\"\"\"\n",
    "\n",
    "result_df = pd.read_sql_query(query, conn)\n",
    "print(result_df)"
   ]
  },
  {
   "cell_type": "code",
   "execution_count": null,
   "id": "78f9b79a-0c0f-4c7c-98a4-49e95b83ce32",
   "metadata": {},
   "outputs": [],
   "source": []
  }
 ],
 "metadata": {
  "kernelspec": {
   "display_name": "Python 3 (ipykernel)",
   "language": "python",
   "name": "python3"
  },
  "language_info": {
   "codemirror_mode": {
    "name": "ipython",
    "version": 3
   },
   "file_extension": ".py",
   "mimetype": "text/x-python",
   "name": "python",
   "nbconvert_exporter": "python",
   "pygments_lexer": "ipython3",
   "version": "3.11.7"
  }
 },
 "nbformat": 4,
 "nbformat_minor": 5
}
